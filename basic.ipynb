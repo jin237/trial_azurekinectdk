{
 "cells": [
  {
   "cell_type": "code",
   "execution_count": 1,
   "id": "493353f9",
   "metadata": {},
   "outputs": [],
   "source": [
    "import matplotlib.pyplot as plt\n",
    "import k4a"
   ]
  },
  {
   "cell_type": "code",
   "execution_count": 2,
   "id": "1a4999ef",
   "metadata": {},
   "outputs": [],
   "source": [
    "device = k4a.Device.open()"
   ]
  },
  {
   "cell_type": "code",
   "execution_count": 3,
   "id": "5212cb34",
   "metadata": {},
   "outputs": [
    {
     "data": {
      "text/plain": [
       "<EWaitStatus.SUCCEEDED: 0>"
      ]
     },
     "execution_count": 3,
     "metadata": {},
     "output_type": "execute_result"
    }
   ],
   "source": [
    "device_config = k4a.DEVICE_CONFIG_BGRA32_2160P_WFOV_2X2BINNED_FPS15\n",
    "device.start_cameras(device_config)"
   ]
  },
  {
   "cell_type": "code",
   "execution_count": 4,
   "id": "a04c48c3",
   "metadata": {},
   "outputs": [],
   "source": [
    "capture = device.get_capture(-1)"
   ]
  },
  {
   "cell_type": "code",
   "execution_count": 5,
   "id": "c616996c",
   "metadata": {},
   "outputs": [
    {
     "data": {
      "text/plain": [
       "<Figure size 432x288 with 0 Axes>"
      ]
     },
     "metadata": {},
     "output_type": "display_data"
    }
   ],
   "source": [
    "fig = plt.figure()"
   ]
  },
  {
   "cell_type": "code",
   "execution_count": 6,
   "id": "3f0bcecc",
   "metadata": {},
   "outputs": [],
   "source": [
    "arr_color = []\n",
    "arr_color.append(fig.add_subplot(1, 1, 1, label=\"Color\"))\n",
    "im_color = []\n",
    "im_color.append(arr_color[0].imshow(capture.color.data))\n",
    "arr_color[0].title.set_text('Color')\n",
    "fig.savefig(\"color.png\", dpi=1000)"
   ]
  },
  {
   "cell_type": "code",
   "execution_count": 7,
   "id": "e5b7fe52",
   "metadata": {},
   "outputs": [],
   "source": [
    "'''\n",
    "while fig is not None:\n",
    "    plt.pause(.1)\n",
    "    plt.draw()\n",
    "\n",
    "    capture = device.get_capture(-1)\n",
    "    if capture is None:\n",
    "        del fig\n",
    "\n",
    "    im_color[0].set_data(capture.color.data)\n",
    "'''\n",
    "\n",
    "device.stop_cameras()"
   ]
  },
  {
   "cell_type": "code",
   "execution_count": null,
   "id": "b553584e",
   "metadata": {},
   "outputs": [],
   "source": []
  },
  {
   "cell_type": "code",
   "execution_count": null,
   "id": "b6edb04e",
   "metadata": {},
   "outputs": [],
   "source": []
  },
  {
   "cell_type": "code",
   "execution_count": null,
   "id": "7a1ae2cc",
   "metadata": {},
   "outputs": [],
   "source": []
  },
  {
   "cell_type": "code",
   "execution_count": null,
   "id": "74c0deb4",
   "metadata": {},
   "outputs": [],
   "source": []
  }
 ],
 "metadata": {
  "kernelspec": {
   "display_name": "Python 3 (ipykernel)",
   "language": "python",
   "name": "python3"
  },
  "language_info": {
   "codemirror_mode": {
    "name": "ipython",
    "version": 3
   },
   "file_extension": ".py",
   "mimetype": "text/x-python",
   "name": "python",
   "nbconvert_exporter": "python",
   "pygments_lexer": "ipython3",
   "version": "3.7.6"
  }
 },
 "nbformat": 4,
 "nbformat_minor": 5
}
