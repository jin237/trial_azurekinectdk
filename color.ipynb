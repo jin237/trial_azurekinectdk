{
 "cells": [
  {
   "cell_type": "code",
   "execution_count": 1,
   "id": "c34e73d3",
   "metadata": {},
   "outputs": [],
   "source": [
    "import numpy as np\n",
    "import cv2 as cv\n",
    "import k4a"
   ]
  },
  {
   "cell_type": "code",
   "execution_count": 2,
   "id": "5c4b1389",
   "metadata": {},
   "outputs": [],
   "source": [
    "class kinect:\n",
    "    # Kinect\n",
    "    _device = None\n",
    "    _capture = None\n",
    "\n",
    "    # Color\n",
    "    _color_image = None\n",
    "    _color = None\n",
    "\n",
    "    def __init__(self):\n",
    "        self.initialize()\n",
    "\n",
    "    def __del__(self):\n",
    "        self.finalize()\n",
    "\n",
    "    def initialize(self):\n",
    "        self.initialize_sensor()\n",
    "\n",
    "    def finalize(self):\n",
    "        self.finalize_sensor()\n",
    "\n",
    "    def initialize_sensor(self, device_index=0):\n",
    "        # Open Device\n",
    "        self._device = k4a.Device.open(device_index)\n",
    "\n",
    "        # Start Cameras\n",
    "        device_config = k4a.DeviceConfiguration(\n",
    "            color_format=k4a.EImageFormat.COLOR_BGRA32,\n",
    "            color_resolution=k4a.EColorResolution.RES_720P,\n",
    "            depth_mode=k4a.EDepthMode.NFOV_UNBINNED,\n",
    "            camera_fps=k4a.EFramesPerSecond.FPS_30,\n",
    "            synchronized_images_only=True\n",
    "        )\n",
    "        status = self._device.start_cameras(device_config)\n",
    "        if status != k4a.EStatus.SUCCEEDED:\n",
    "            raise IOError(\"failed start cameras!\")\n",
    "\n",
    "    def finalize_sensor(self):\n",
    "        # Stop Cameras\n",
    "        self._device.stop_cameras()\n",
    "        self._device.close()\n",
    "\n",
    "    def run(self):\n",
    "        while True:\n",
    "            self.update()\n",
    "            self.draw()\n",
    "            self.show()\n",
    "\n",
    "            key = cv.waitKey(10)\n",
    "            if key == ord('q'):\n",
    "                break\n",
    "\n",
    "    def update(self):\n",
    "        self.update_frame()\n",
    "        self.update_color()\n",
    "\n",
    "    def update_frame(self):\n",
    "        # Capture Frame\n",
    "        self._capture = self._device.get_capture(-1)\n",
    "        if self._capture is None:\n",
    "            raise IOError(\"failed get capture!\")\n",
    "\n",
    "    def update_color(self):\n",
    "        # Update Color\n",
    "        self._color_image = self._capture.color\n",
    "\n",
    "    def draw(self):\n",
    "        self.draw_color()\n",
    "\n",
    "    def draw_color(self):\n",
    "        # Draw Color\n",
    "        self._color = self._color_image.data\n",
    "\n",
    "    def show(self):\n",
    "        self.show_color()\n",
    "\n",
    "    def show_color(self):\n",
    "        # Show Color\n",
    "        cv.imshow(\"color\", self._color)\n"
   ]
  },
  {
   "cell_type": "code",
   "execution_count": 3,
   "id": "a6fee898",
   "metadata": {},
   "outputs": [
    {
     "ename": "KeyboardInterrupt",
     "evalue": "",
     "output_type": "error",
     "traceback": [
      "\u001b[1;31m---------------------------------------------------------------------------\u001b[0m",
      "\u001b[1;31mKeyboardInterrupt\u001b[0m                         Traceback (most recent call last)",
      "\u001b[1;32m~\\AppData\\Local\\Temp\\ipykernel_19248\\1403471947.py\u001b[0m in \u001b[0;36m<module>\u001b[1;34m\u001b[0m\n\u001b[0;32m      2\u001b[0m     \u001b[1;32mtry\u001b[0m\u001b[1;33m:\u001b[0m\u001b[1;33m\u001b[0m\u001b[1;33m\u001b[0m\u001b[0m\n\u001b[0;32m      3\u001b[0m         \u001b[0mkinect\u001b[0m \u001b[1;33m=\u001b[0m \u001b[0mkinect\u001b[0m\u001b[1;33m(\u001b[0m\u001b[1;33m)\u001b[0m\u001b[1;33m\u001b[0m\u001b[1;33m\u001b[0m\u001b[0m\n\u001b[1;32m----> 4\u001b[1;33m         \u001b[0mkinect\u001b[0m\u001b[1;33m.\u001b[0m\u001b[0mrun\u001b[0m\u001b[1;33m(\u001b[0m\u001b[1;33m)\u001b[0m\u001b[1;33m\u001b[0m\u001b[1;33m\u001b[0m\u001b[0m\n\u001b[0m\u001b[0;32m      5\u001b[0m     \u001b[1;32mexcept\u001b[0m \u001b[0mException\u001b[0m \u001b[1;32mas\u001b[0m \u001b[0me\u001b[0m\u001b[1;33m:\u001b[0m\u001b[1;33m\u001b[0m\u001b[1;33m\u001b[0m\u001b[0m\n\u001b[0;32m      6\u001b[0m         \u001b[0mprint\u001b[0m\u001b[1;33m(\u001b[0m\u001b[0me\u001b[0m\u001b[1;33m)\u001b[0m\u001b[1;33m\u001b[0m\u001b[1;33m\u001b[0m\u001b[0m\n",
      "\u001b[1;32m~\\AppData\\Local\\Temp\\ipykernel_19248\\1564807999.py\u001b[0m in \u001b[0;36mrun\u001b[1;34m(self)\u001b[0m\n\u001b[0;32m     47\u001b[0m             \u001b[0mself\u001b[0m\u001b[1;33m.\u001b[0m\u001b[0mshow\u001b[0m\u001b[1;33m(\u001b[0m\u001b[1;33m)\u001b[0m\u001b[1;33m\u001b[0m\u001b[1;33m\u001b[0m\u001b[0m\n\u001b[0;32m     48\u001b[0m \u001b[1;33m\u001b[0m\u001b[0m\n\u001b[1;32m---> 49\u001b[1;33m             \u001b[0mkey\u001b[0m \u001b[1;33m=\u001b[0m \u001b[0mcv\u001b[0m\u001b[1;33m.\u001b[0m\u001b[0mwaitKey\u001b[0m\u001b[1;33m(\u001b[0m\u001b[1;36m10\u001b[0m\u001b[1;33m)\u001b[0m\u001b[1;33m\u001b[0m\u001b[1;33m\u001b[0m\u001b[0m\n\u001b[0m\u001b[0;32m     50\u001b[0m             \u001b[1;32mif\u001b[0m \u001b[0mkey\u001b[0m \u001b[1;33m==\u001b[0m \u001b[0mord\u001b[0m\u001b[1;33m(\u001b[0m\u001b[1;34m'q'\u001b[0m\u001b[1;33m)\u001b[0m\u001b[1;33m:\u001b[0m\u001b[1;33m\u001b[0m\u001b[1;33m\u001b[0m\u001b[0m\n\u001b[0;32m     51\u001b[0m                 \u001b[1;32mbreak\u001b[0m\u001b[1;33m\u001b[0m\u001b[1;33m\u001b[0m\u001b[0m\n",
      "\u001b[1;31mKeyboardInterrupt\u001b[0m: "
     ]
    }
   ],
   "source": [
    "if __name__ == '__main__':\n",
    "    try:\n",
    "        kinect = kinect()\n",
    "        kinect.run()\n",
    "    except Exception as e:\n",
    "        print(e)"
   ]
  },
  {
   "cell_type": "code",
   "execution_count": null,
   "id": "6410354d",
   "metadata": {},
   "outputs": [],
   "source": []
  }
 ],
 "metadata": {
  "kernelspec": {
   "display_name": "Python 3 (ipykernel)",
   "language": "python",
   "name": "python3"
  },
  "language_info": {
   "codemirror_mode": {
    "name": "ipython",
    "version": 3
   },
   "file_extension": ".py",
   "mimetype": "text/x-python",
   "name": "python",
   "nbconvert_exporter": "python",
   "pygments_lexer": "ipython3",
   "version": "3.7.6"
  }
 },
 "nbformat": 4,
 "nbformat_minor": 5
}
