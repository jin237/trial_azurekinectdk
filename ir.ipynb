{
 "cells": [
  {
   "cell_type": "code",
   "execution_count": 30,
   "id": "e22b7e6c",
   "metadata": {},
   "outputs": [],
   "source": [
    "import matplotlib.pyplot as plt\n",
    "import k4a"
   ]
  },
  {
   "cell_type": "code",
   "execution_count": 31,
   "id": "0fb7ee1d",
   "metadata": {},
   "outputs": [],
   "source": [
    "device = k4a.Device.open()"
   ]
  },
  {
   "cell_type": "code",
   "execution_count": 32,
   "id": "d149f4a8",
   "metadata": {},
   "outputs": [
    {
     "data": {
      "text/plain": [
       "<EWaitStatus.SUCCEEDED: 0>"
      ]
     },
     "execution_count": 32,
     "metadata": {},
     "output_type": "execute_result"
    }
   ],
   "source": [
    "device_config = k4a.DEVICE_CONFIG_BGRA32_2160P_WFOV_2X2BINNED_FPS15\n",
    "device.start_cameras(device_config)"
   ]
  },
  {
   "cell_type": "code",
   "execution_count": 33,
   "id": "a3462513",
   "metadata": {},
   "outputs": [],
   "source": [
    "capture = device.get_capture(-1)"
   ]
  },
  {
   "cell_type": "code",
   "execution_count": 34,
   "id": "051d71df",
   "metadata": {},
   "outputs": [
    {
     "data": {
      "text/plain": [
       "<Figure size 432x288 with 0 Axes>"
      ]
     },
     "metadata": {},
     "output_type": "display_data"
    }
   ],
   "source": [
    "fig = plt.figure()"
   ]
  },
  {
   "cell_type": "code",
   "execution_count": 35,
   "id": "fe866be2",
   "metadata": {},
   "outputs": [],
   "source": [
    "arr_ir = []\n",
    "arr_ir.append(fig.add_subplot(1, 1, 1, label=\"IR\"))\n",
    "im_ir = []\n",
    "im_ir.append(arr_ir[0].imshow(capture.ir.data, cmap='gray'))\n",
    "arr_ir[0].title.set_text('IR')\n",
    "fig.savefig(\"ir.png\", dpi=1000)"
   ]
  },
  {
   "cell_type": "code",
   "execution_count": 36,
   "id": "598d65df",
   "metadata": {},
   "outputs": [],
   "source": [
    "'''\n",
    "while fig is not None:\n",
    "    plt.pause(.1)\n",
    "    plt.draw()\n",
    "\n",
    "    capture = device.get_capture(-1)\n",
    "    if capture is None:\n",
    "        del fig\n",
    "\n",
    "    im_ir[0].set_data(capture.depth.data)\n",
    "'''\n",
    "device.stop_cameras()"
   ]
  },
  {
   "cell_type": "code",
   "execution_count": null,
   "id": "7b9f5156",
   "metadata": {},
   "outputs": [],
   "source": []
  }
 ],
 "metadata": {
  "kernelspec": {
   "display_name": "Python 3 (ipykernel)",
   "language": "python",
   "name": "python3"
  },
  "language_info": {
   "codemirror_mode": {
    "name": "ipython",
    "version": 3
   },
   "file_extension": ".py",
   "mimetype": "text/x-python",
   "name": "python",
   "nbconvert_exporter": "python",
   "pygments_lexer": "ipython3",
   "version": "3.7.6"
  }
 },
 "nbformat": 4,
 "nbformat_minor": 5
}
